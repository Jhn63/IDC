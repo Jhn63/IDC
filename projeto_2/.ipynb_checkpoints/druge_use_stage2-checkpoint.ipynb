{
 "cells": [
  {
   "cell_type": "code",
   "execution_count": 182,
   "id": "e0858216-4689-4036-8a32-5325551d4359",
   "metadata": {},
   "outputs": [],
   "source": [
    "import pandas as pd\n",
    "import matplotlib.pyplot as plt \n",
    "\n",
    "df = pd.read_csv(\"drug-use-by-age.csv\", na_values=\"-\")"
   ]
  },
  {
   "cell_type": "code",
   "execution_count": 163,
   "id": "fb526779-bdab-4856-8944-241b6d85b0de",
   "metadata": {},
   "outputs": [],
   "source": [
    "#calculando a media das colunas \"frequency\"\n",
    "frequency_mask = [column for column in df.columns if \"frequency\" in column]\n",
    "\n",
    "freq_multiplied = df[frequency_mask].multiply(df['n'], axis=0)\n",
    "n_total = df[\"n\"].sum()\n",
    "\n",
    "fmean = freq_multiplied.sum() / n_total"
   ]
  },
  {
   "cell_type": "code",
   "execution_count": 164,
   "id": "054aa041-dc85-4d23-b93c-648b796dc810",
   "metadata": {},
   "outputs": [],
   "source": [
    "# calculando moda e mediana\n",
    "dfs_duplicated = []\n",
    "\n",
    "for i in range(17):\n",
    "    row = df[frequency_mask].iloc[i,]    \n",
    "    df_dup = pd.DataFrame([row] * df.iloc[i, 1], columns=row.index)\n",
    "    dfs_duplicated.append(df_dup)\n",
    "\n",
    "df_stacked = pd.concat(dfs_duplicated , ignore_index=True)\n",
    "\n",
    "fmedian = df_stacked.median()\n",
    "fmode = df_stacked.mode()"
   ]
  },
  {
   "cell_type": "markdown",
   "id": "694334da-688f-4034-8d2f-dd77d6bf56fb",
   "metadata": {},
   "source": [
    "## Interpretando medidas de centralidade e dispersão\n",
    "\n",
    "As colunas \"frequency\" representam o consumo médio de cada substância relativo as diferentes idades, oque pode ser um pequeno viés para a analise dos dados ja que o ideal seria ter o consumo exato de cada substância para cada individuo que apresentou seus dados\n",
    "\n",
    "Para calcular a media foi necessário multiplicar o valor de cada coluna \"frequency\" pelo tamanho da amostra (valores da coluna n), acumular os resultados de cada coluna e dividir pela total de amostras. <br>\n",
    "Ou seja a coluna Média é a média total de consumo de cada susbtância em relação aos individuos de todas as idades\n",
    "\n",
    "Para calcular a moda e mediana cada tupla das colunas \"frequency\" foi duplicada n vezes de acordo com o tamanho de n de cada idade, por exemplo: Os valores relativos a idade de 12 anos foram duplicadas 2798 vezes. <br>"
   ]
  },
  {
   "cell_type": "code",
   "execution_count": 171,
   "id": "3c76b43c-7795-4b5c-b697-1addc5be7456",
   "metadata": {},
   "outputs": [
    {
     "data": {
      "text/html": [
       "<div>\n",
       "<style scoped>\n",
       "    .dataframe tbody tr th:only-of-type {\n",
       "        vertical-align: middle;\n",
       "    }\n",
       "\n",
       "    .dataframe tbody tr th {\n",
       "        vertical-align: top;\n",
       "    }\n",
       "\n",
       "    .dataframe thead th {\n",
       "        text-align: right;\n",
       "    }\n",
       "</style>\n",
       "<table border=\"1\" class=\"dataframe\">\n",
       "  <thead>\n",
       "    <tr style=\"text-align: right;\">\n",
       "      <th></th>\n",
       "      <th>Média</th>\n",
       "      <th>Moda</th>\n",
       "      <th>Mediana</th>\n",
       "    </tr>\n",
       "  </thead>\n",
       "  <tbody>\n",
       "    <tr>\n",
       "      <th>alcohol_frequency</th>\n",
       "      <td>35.86</td>\n",
       "      <td>52.0</td>\n",
       "      <td>52.0</td>\n",
       "    </tr>\n",
       "    <tr>\n",
       "      <th>marijuana_frequency</th>\n",
       "      <td>43.88</td>\n",
       "      <td>52.0</td>\n",
       "      <td>52.0</td>\n",
       "    </tr>\n",
       "    <tr>\n",
       "      <th>cocaine_frequency</th>\n",
       "      <td>8.58</td>\n",
       "      <td>5.0</td>\n",
       "      <td>5.5</td>\n",
       "    </tr>\n",
       "    <tr>\n",
       "      <th>crack_frequency</th>\n",
       "      <td>16.13</td>\n",
       "      <td>48.0</td>\n",
       "      <td>9.5</td>\n",
       "    </tr>\n",
       "    <tr>\n",
       "      <th>heroin_frequency</th>\n",
       "      <td>85.25</td>\n",
       "      <td>280.0</td>\n",
       "      <td>57.5</td>\n",
       "    </tr>\n",
       "    <tr>\n",
       "      <th>hallucinogen_frequency</th>\n",
       "      <td>8.46</td>\n",
       "      <td>3.0</td>\n",
       "      <td>3.0</td>\n",
       "    </tr>\n",
       "    <tr>\n",
       "      <th>inhalant_frequency</th>\n",
       "      <td>6.22</td>\n",
       "      <td>4.0</td>\n",
       "      <td>4.0</td>\n",
       "    </tr>\n",
       "    <tr>\n",
       "      <th>pain_releiver_frequency</th>\n",
       "      <td>14.41</td>\n",
       "      <td>12.0</td>\n",
       "      <td>12.0</td>\n",
       "    </tr>\n",
       "    <tr>\n",
       "      <th>oxycontin_frequency</th>\n",
       "      <td>14.04</td>\n",
       "      <td>12.0</td>\n",
       "      <td>12.0</td>\n",
       "    </tr>\n",
       "    <tr>\n",
       "      <th>tranquilizer_frequency</th>\n",
       "      <td>11.29</td>\n",
       "      <td>10.0</td>\n",
       "      <td>10.0</td>\n",
       "    </tr>\n",
       "    <tr>\n",
       "      <th>stimulant_frequency</th>\n",
       "      <td>27.44</td>\n",
       "      <td>10.0</td>\n",
       "      <td>10.0</td>\n",
       "    </tr>\n",
       "    <tr>\n",
       "      <th>meth_frequency</th>\n",
       "      <td>37.92</td>\n",
       "      <td>104.0</td>\n",
       "      <td>30.0</td>\n",
       "    </tr>\n",
       "    <tr>\n",
       "      <th>sedative_frequency</th>\n",
       "      <td>21.78</td>\n",
       "      <td>10.0</td>\n",
       "      <td>10.0</td>\n",
       "    </tr>\n",
       "  </tbody>\n",
       "</table>\n",
       "</div>"
      ],
      "text/plain": [
       "                         Média   Moda  Mediana\n",
       "alcohol_frequency        35.86   52.0     52.0\n",
       "marijuana_frequency      43.88   52.0     52.0\n",
       "cocaine_frequency         8.58    5.0      5.5\n",
       "crack_frequency          16.13   48.0      9.5\n",
       "heroin_frequency         85.25  280.0     57.5\n",
       "hallucinogen_frequency    8.46    3.0      3.0\n",
       "inhalant_frequency        6.22    4.0      4.0\n",
       "pain_releiver_frequency  14.41   12.0     12.0\n",
       "oxycontin_frequency      14.04   12.0     12.0\n",
       "tranquilizer_frequency   11.29   10.0     10.0\n",
       "stimulant_frequency      27.44   10.0     10.0\n",
       "meth_frequency           37.92  104.0     30.0\n",
       "sedative_frequency       21.78   10.0     10.0"
      ]
     },
     "execution_count": 171,
     "metadata": {},
     "output_type": "execute_result"
    }
   ],
   "source": [
    "# media e mediana\n",
    "central_tendency = pd.DataFrame({\n",
    "    \"Média\" : round(fmean, 2),\n",
    "    \"Moda\" : fmode.iloc[0],\n",
    "    \"Mediana\" : fmedian\n",
    "})\n",
    "central_tendency"
   ]
  },
  {
   "cell_type": "code",
   "execution_count": 173,
   "id": "1f11b6dd-cc2c-4924-96bb-fa420aa8e82c",
   "metadata": {},
   "outputs": [
    {
     "data": {
      "text/html": [
       "<div>\n",
       "<style scoped>\n",
       "    .dataframe tbody tr th:only-of-type {\n",
       "        vertical-align: middle;\n",
       "    }\n",
       "\n",
       "    .dataframe tbody tr th {\n",
       "        vertical-align: top;\n",
       "    }\n",
       "\n",
       "    .dataframe thead th {\n",
       "        text-align: right;\n",
       "    }\n",
       "</style>\n",
       "<table border=\"1\" class=\"dataframe\">\n",
       "  <thead>\n",
       "    <tr style=\"text-align: right;\">\n",
       "      <th></th>\n",
       "      <th>Variancia</th>\n",
       "      <th>Desvio Padrão</th>\n",
       "    </tr>\n",
       "  </thead>\n",
       "  <tbody>\n",
       "    <tr>\n",
       "      <th>alcohol_frequency</th>\n",
       "      <td>418.687678</td>\n",
       "      <td>20.461859</td>\n",
       "    </tr>\n",
       "    <tr>\n",
       "      <th>marijuana_frequency</th>\n",
       "      <td>283.126661</td>\n",
       "      <td>16.826368</td>\n",
       "    </tr>\n",
       "    <tr>\n",
       "      <th>cocaine_frequency</th>\n",
       "      <td>71.646395</td>\n",
       "      <td>8.464419</td>\n",
       "    </tr>\n",
       "    <tr>\n",
       "      <th>crack_frequency</th>\n",
       "      <td>400.805091</td>\n",
       "      <td>20.020117</td>\n",
       "    </tr>\n",
       "    <tr>\n",
       "      <th>heroin_frequency</th>\n",
       "      <td>7279.115438</td>\n",
       "      <td>85.317732</td>\n",
       "    </tr>\n",
       "    <tr>\n",
       "      <th>hallucinogen_frequency</th>\n",
       "      <td>211.863664</td>\n",
       "      <td>14.555537</td>\n",
       "    </tr>\n",
       "    <tr>\n",
       "      <th>inhalant_frequency</th>\n",
       "      <td>21.548143</td>\n",
       "      <td>4.641998</td>\n",
       "    </tr>\n",
       "    <tr>\n",
       "      <th>pain_releiver_frequency</th>\n",
       "      <td>39.295759</td>\n",
       "      <td>6.268633</td>\n",
       "    </tr>\n",
       "    <tr>\n",
       "      <th>oxycontin_frequency</th>\n",
       "      <td>135.007095</td>\n",
       "      <td>11.619255</td>\n",
       "    </tr>\n",
       "    <tr>\n",
       "      <th>tranquilizer_frequency</th>\n",
       "      <td>108.621612</td>\n",
       "      <td>10.422169</td>\n",
       "    </tr>\n",
       "    <tr>\n",
       "      <th>stimulant_frequency</th>\n",
       "      <td>5294.544157</td>\n",
       "      <td>72.763618</td>\n",
       "    </tr>\n",
       "    <tr>\n",
       "      <th>meth_frequency</th>\n",
       "      <td>1130.587156</td>\n",
       "      <td>33.624205</td>\n",
       "    </tr>\n",
       "    <tr>\n",
       "      <th>sedative_frequency</th>\n",
       "      <td>679.792546</td>\n",
       "      <td>26.072832</td>\n",
       "    </tr>\n",
       "  </tbody>\n",
       "</table>\n",
       "</div>"
      ],
      "text/plain": [
       "                           Variancia  Desvio Padrão\n",
       "alcohol_frequency         418.687678      20.461859\n",
       "marijuana_frequency       283.126661      16.826368\n",
       "cocaine_frequency          71.646395       8.464419\n",
       "crack_frequency           400.805091      20.020117\n",
       "heroin_frequency         7279.115438      85.317732\n",
       "hallucinogen_frequency    211.863664      14.555537\n",
       "inhalant_frequency         21.548143       4.641998\n",
       "pain_releiver_frequency    39.295759       6.268633\n",
       "oxycontin_frequency       135.007095      11.619255\n",
       "tranquilizer_frequency    108.621612      10.422169\n",
       "stimulant_frequency      5294.544157      72.763618\n",
       "meth_frequency           1130.587156      33.624205\n",
       "sedative_frequency        679.792546      26.072832"
      ]
     },
     "execution_count": 173,
     "metadata": {},
     "output_type": "execute_result"
    }
   ],
   "source": [
    "var = df_stacked.var(ddof=1)\n",
    "dep = df_stacked.std(ddof=1)\n",
    "\n",
    "dispersion = pd.DataFrame({\n",
    "    \"Variancia\" : var,\n",
    "    \"Desvio Padrão\" : dep\n",
    "})\n",
    "\n",
    "dispersion"
   ]
  },
  {
   "cell_type": "code",
   "execution_count": 188,
   "id": "caf911c4-d7a3-4c14-8163-29d08e5dbe69",
   "metadata": {},
   "outputs": [
    {
     "data": {
      "image/png": "[encoded data removed]",
      "text/plain": [
       "<Figure size 640x480 with 1 Axes>"
      ]
     },
     "metadata": {},
     "output_type": "display_data"
    }
   ],
   "source": [
    "df_stacked.boxplot(column=[\"alcohol_frequency\", \"marijuana_frequency\", \"cocaine_frequency\"])\n",
    "plt.show()"
   ]
  },
  {
   "cell_type": "code",
   "execution_count": 190,
   "id": "c696882b-e449-427d-ab0a-5bb398f79302",
   "metadata": {},
   "outputs": [
    {
     "data": {
      "image/png": "[encoded data removed]",
      "text/plain": [
       "<Figure size 640x480 with 1 Axes>"
      ]
     },
     "metadata": {},
     "output_type": "display_data"
    }
   ],
   "source": [
    "df_stacked.boxplot(column= [\"crack_frequency\",\"heroin_frequency\",\"hallucinogen_frequency\"])\n",
    "plt.show()"
   ]
  },
  {
   "cell_type": "code",
   "execution_count": 192,
   "id": "9335efee-21bd-498a-9c53-5f869385afd1",
   "metadata": {},
   "outputs": [
    {
     "data": {
      "image/png": "[encoded data removed]",
      "text/plain": [
       "<Figure size 640x480 with 1 Axes>"
      ]
     },
     "metadata": {},
     "output_type": "display_data"
    }
   ],
   "source": [
    "df_stacked.boxplot(column= [\"inhalant_frequency\",\"pain_releiver_frequency\",\"oxycontin_frequency\"])\n",
    "plt.show()"
   ]
  },
  {
   "cell_type": "code",
   "execution_count": 194,
   "id": "e9c8735f-2f33-4829-9805-78d265edf6e0",
   "metadata": {},
   "outputs": [
    {
     "data": {
      "image/png": "[encoded data removed]",
      "text/plain": [
       "<Figure size 640x480 with 1 Axes>"
      ]
     },
     "metadata": {},
     "output_type": "display_data"
    }
   ],
   "source": [
    "df_stacked.boxplot(column= [\"tranquilizer_frequency\",\"sedative_frequency\",\"meth_frequency\"])\n",
    "plt.show()"
   ]
  },
  {
   "cell_type": "code",
   "execution_count": null,
   "id": "361b9be7-56a9-4f85-900d-d658d4734838",
   "metadata": {},
   "outputs": [],
   "source": []
  }
 ],
 "metadata": {
  "kernelspec": {
   "display_name": "Python 3 (ipykernel)",
   "language": "python",
   "name": "python3"
  },
  "language_info": {
   "codemirror_mode": {
    "name": "ipython",
    "version": 3
   },
   "file_extension": ".py",
   "mimetype": "text/x-python",
   "name": "python",
   "nbconvert_exporter": "python",
   "pygments_lexer": "ipython3",
   "version": "3.10.6"
  }
 },
 "nbformat": 4,
 "nbformat_minor": 5
}
